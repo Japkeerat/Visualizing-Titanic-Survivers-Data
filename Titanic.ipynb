{
 "cells": [
  {
   "cell_type": "markdown",
   "metadata": {},
   "source": [
    "# Titanic - Making sense of the data"
   ]
  },
  {
   "cell_type": "markdown",
   "metadata": {},
   "source": [
    "Importing all the packages which are used later in the code. Increases RAM usage but at least the code remains clean."
   ]
  },
  {
   "cell_type": "code",
   "execution_count": 1,
   "metadata": {},
   "outputs": [],
   "source": [
    "import pandas as pd\n",
    "import numpy as np\n",
    "import matplotlib.pyplot as plt\n",
    "from tqdm import tqdm\n",
    "\n",
    "tqdm.pandas()"
   ]
  },
  {
   "cell_type": "markdown",
   "metadata": {},
   "source": [
    "Loading data files to be used in the code."
   ]
  },
  {
   "cell_type": "code",
   "execution_count": 2,
   "metadata": {},
   "outputs": [],
   "source": [
    "train_data = pd.read_csv('train.csv')"
   ]
  },
  {
   "cell_type": "markdown",
   "metadata": {},
   "source": [
    "Let's see how data looks."
   ]
  },
  {
   "cell_type": "code",
   "execution_count": 3,
   "metadata": {},
   "outputs": [
    {
     "name": "stdout",
     "output_type": "stream",
     "text": [
      "       PassengerId    Survived      Pclass         Age       SibSp  \\\n",
      "count   891.000000  891.000000  891.000000  714.000000  891.000000   \n",
      "mean    446.000000    0.383838    2.308642   29.699118    0.523008   \n",
      "std     257.353842    0.486592    0.836071   14.526497    1.102743   \n",
      "min       1.000000    0.000000    1.000000    0.420000    0.000000   \n",
      "25%     223.500000    0.000000    2.000000   20.125000    0.000000   \n",
      "50%     446.000000    0.000000    3.000000   28.000000    0.000000   \n",
      "75%     668.500000    1.000000    3.000000   38.000000    1.000000   \n",
      "max     891.000000    1.000000    3.000000   80.000000    8.000000   \n",
      "\n",
      "            Parch        Fare  \n",
      "count  891.000000  891.000000  \n",
      "mean     0.381594   32.204208  \n",
      "std      0.806057   49.693429  \n",
      "min      0.000000    0.000000  \n",
      "25%      0.000000    7.910400  \n",
      "50%      0.000000   14.454200  \n",
      "75%      0.000000   31.000000  \n",
      "max      6.000000  512.329200  \n"
     ]
    }
   ],
   "source": [
    "print(train_data.describe())"
   ]
  },
  {
   "cell_type": "markdown",
   "metadata": {},
   "source": [
    "Now let's see the labels and data types of all columns as describe() method didn't tell about all columns."
   ]
  },
  {
   "cell_type": "code",
   "execution_count": 4,
   "metadata": {},
   "outputs": [
    {
     "data": {
      "text/plain": [
       "PassengerId      int64\n",
       "Survived         int64\n",
       "Pclass           int64\n",
       "Name            object\n",
       "Sex             object\n",
       "Age            float64\n",
       "SibSp            int64\n",
       "Parch            int64\n",
       "Ticket          object\n",
       "Fare           float64\n",
       "Cabin           object\n",
       "Embarked        object\n",
       "dtype: object"
      ]
     },
     "execution_count": 4,
     "metadata": {},
     "output_type": "execute_result"
    }
   ],
   "source": [
    "train_data.dtypes"
   ]
  },
  {
   "cell_type": "markdown",
   "metadata": {},
   "source": [
    "We don't need to focus on passenger names and their ticket number. It would not be putting any significant contribution to our model. Also, PassengerId is anyways need not to be taken into consideration."
   ]
  },
  {
   "cell_type": "code",
   "execution_count": 5,
   "metadata": {},
   "outputs": [],
   "source": [
    "train_data.drop(['PassengerId', 'Name', 'Ticket'], axis = 1, inplace = True)"
   ]
  },
  {
   "cell_type": "markdown",
   "metadata": {},
   "source": [
    "Printing top 5 entries to see how data looks like."
   ]
  },
  {
   "cell_type": "code",
   "execution_count": 6,
   "metadata": {},
   "outputs": [
    {
     "name": "stdout",
     "output_type": "stream",
     "text": [
      "   Survived  Pclass     Sex   Age  SibSp  Parch     Fare Cabin Embarked\n",
      "0         0       3    male  22.0      1      0   7.2500   NaN        S\n",
      "1         1       1  female  38.0      1      0  71.2833   C85        C\n",
      "2         1       3  female  26.0      0      0   7.9250   NaN        S\n",
      "3         1       1  female  35.0      1      0  53.1000  C123        S\n",
      "4         0       3    male  35.0      0      0   8.0500   NaN        S\n"
     ]
    }
   ],
   "source": [
    "print(train_data.head())"
   ]
  },
  {
   "cell_type": "markdown",
   "metadata": {},
   "source": [
    "From the above 5 entries, it can be interpreted we don't have much knowledge about Cabin for passengers. From the above set, it can be assumed that it only contains information of about 50% passengers. Would be safe to remove the column, but still wait for further analysis."
   ]
  },
  {
   "cell_type": "markdown",
   "metadata": {},
   "source": [
    "Let's check which columns contain missing data."
   ]
  },
  {
   "cell_type": "code",
   "execution_count": 7,
   "metadata": {},
   "outputs": [
    {
     "name": "stdout",
     "output_type": "stream",
     "text": [
      "['Age', 'Cabin', 'Embarked']\n"
     ]
    }
   ],
   "source": [
    "nan_list = train_data.columns[train_data.isna().any()].tolist() #The list of column labels that contain missing values.\n",
    "print(nan_list)"
   ]
  },
  {
   "cell_type": "markdown",
   "metadata": {},
   "source": [
    "3 columns contain missing data. Let's handle these 3 columns first. If missing data for any column is less than 1%, we remove the entry. If between 1-20%, we can average it according to other entries, else we would remove the column.\n",
    "As data of majority passengers would be missing, it won't give significant level of improvement to the model so it is fair to remove it.\n",
    "\n",
    "As each column contains different type of data, different way would be needed to handle each column's missing value. Checking frequency, though is independent of it."
   ]
  },
  {
   "cell_type": "code",
   "execution_count": 8,
   "metadata": {},
   "outputs": [
    {
     "name": "stderr",
     "output_type": "stream",
     "text": [
      "\r",
      "  0%|                                                                                            | 0/3 [00:00<?, ?it/s]"
     ]
    },
    {
     "name": "stdout",
     "output_type": "stream",
     "text": [
      "Frequency of missing values in Age is 19.87%\n",
      "Frequency of missing values in Cabin is 77.10%\n",
      "Frequency of missing values in Embarked is 0.22%\n"
     ]
    },
    {
     "name": "stderr",
     "output_type": "stream",
     "text": [
      "100%|███████████████████████████████████████████████████████████████████████████████████| 3/3 [00:00<00:00, 752.25it/s]\n"
     ]
    }
   ],
   "source": [
    "def freq_missing_data(dataframe, column_list):\n",
    "    '''This method prints the frequency of missing data in the columns with labels as in the column_list parameter in the\n",
    "    dataframe.\n",
    "    891 is not a magic number. It is the count of passengers on board which was found earlier when executed\n",
    "    pandas.describe()'''\n",
    "    for column in tqdm(column_list):\n",
    "        count = dataframe[column].isnull().sum()\n",
    "        freq = count / 891\n",
    "        print(\"Frequency of missing values in {} is {:.2%}\".format(column, freq))\n",
    "        \n",
    "freq_missing_data(train_data, nan_list)"
   ]
  },
  {
   "cell_type": "markdown",
   "metadata": {},
   "source": [
    "Ouch! 77.1% missing data in Cabin column. Just drop it."
   ]
  },
  {
   "cell_type": "code",
   "execution_count": 9,
   "metadata": {},
   "outputs": [],
   "source": [
    "train_data.drop('Cabin', axis = 1, inplace = True)"
   ]
  },
  {
   "cell_type": "markdown",
   "metadata": {},
   "source": [
    "Next, delete entry with missing values in Embarked. 0.22% means 2 entries have missing data here."
   ]
  },
  {
   "cell_type": "code",
   "execution_count": 10,
   "metadata": {},
   "outputs": [],
   "source": [
    "train_data.dropna(subset = ['Embarked'], inplace = True)"
   ]
  },
  {
   "cell_type": "markdown",
   "metadata": {},
   "source": [
    "Done. Next, we would handle Age column. Where there is a missing value, we would add average of that column there. This could have been done for Embarked column but I prefer removing entries when frequency of missing data is this low."
   ]
  },
  {
   "cell_type": "code",
   "execution_count": 11,
   "metadata": {},
   "outputs": [],
   "source": [
    "train_data.fillna(train_data.mean(), inplace = True)"
   ]
  },
  {
   "cell_type": "markdown",
   "metadata": {},
   "source": [
    "Done. Let's verify for confirmation."
   ]
  },
  {
   "cell_type": "code",
   "execution_count": 12,
   "metadata": {},
   "outputs": [
    {
     "name": "stdout",
     "output_type": "stream",
     "text": [
      "         Survived      Pclass         Age       SibSp       Parch        Fare\n",
      "count  889.000000  889.000000  889.000000  889.000000  889.000000  889.000000\n",
      "mean     0.382452    2.311586   29.642093    0.524184    0.382452   32.096681\n",
      "std      0.486260    0.834700   12.968346    1.103705    0.806761   49.697504\n",
      "min      0.000000    1.000000    0.420000    0.000000    0.000000    0.000000\n",
      "25%      0.000000    2.000000   22.000000    0.000000    0.000000    7.895800\n",
      "50%      0.000000    3.000000   29.642093    0.000000    0.000000   14.454200\n",
      "75%      1.000000    3.000000   35.000000    1.000000    0.000000   31.000000\n",
      "max      1.000000    3.000000   80.000000    8.000000    6.000000  512.329200\n"
     ]
    }
   ],
   "source": [
    "print(train_data.describe())"
   ]
  },
  {
   "cell_type": "markdown",
   "metadata": {},
   "source": [
    "Now, our data is prepared to be analyzed in a better perspective with the magic of matplotlib."
   ]
  },
  {
   "cell_type": "markdown",
   "metadata": {},
   "source": [
    "Let us first see, were rich people privileged or middle class guys were lucky. #Assumption: Fare>Average means rich. Fare<=Average means middle class."
   ]
  },
  {
   "cell_type": "code",
   "execution_count": 13,
   "metadata": {
    "scrolled": true
   },
   "outputs": [
    {
     "name": "stderr",
     "output_type": "stream",
     "text": [
      "100%|████████████████████████████████████████████████████████████████████████████████████████| 889/889 [00:00<?, ?it/s]\n"
     ]
    },
    {
     "name": "stdout",
     "output_type": "stream",
     "text": [
      "[121, 219]\n"
     ]
    },
    {
     "data": {
      "image/png": "[encoded data removed]",
      "text/plain": [
       "<Figure size 432x288 with 1 Axes>"
      ]
     },
     "metadata": {
      "needs_background": "light"
     },
     "output_type": "display_data"
    }
   ],
   "source": [
    "def get_survive_as_fare(dataframe):\n",
    "    '''This method returns a list of the frequency of the people who survived the disaster. First element in the list\n",
    "    is the frequency of the rich people who survived while the second element is the frequence of the poor people who survived.\n",
    "    DEFINITION: Rich --> Passengers who bought tickets for more than ceil of mean of fare.\n",
    "    DEFINITION: Poor --> Passengers who bought tickets for less than or equal to ceil of mean of fare.\n",
    "    33 used ahead came from [32.096681] where [.] is the greatest integer function where 32.096681 is the mean fare found\n",
    "    in the previous step using pandas.describe()'''\n",
    "    survived_list = dataframe['Survived'].tolist()\n",
    "    fare_list = dataframe['Fare'].tolist()\n",
    "    count = []\n",
    "    count_rich_survived = 0\n",
    "    count_poor_survived = 0\n",
    "    for i in tqdm(range(0, 889)):\n",
    "        passenger = survived_list[i]\n",
    "        fare = fare_list[i]\n",
    "        if passenger == 1:\n",
    "            if fare > 33:\n",
    "                count_rich_survived += 1\n",
    "            else:\n",
    "                count_poor_survived += 1\n",
    "    count.append(count_rich_survived)\n",
    "    count.append(count_poor_survived)\n",
    "    return count\n",
    "    \n",
    "\n",
    "count = get_survive_as_fare(train_data)\n",
    "print(count)\n",
    "plt.bar([1,2], count)\n",
    "plt.xticks([1,2], ('Rich', 'Poor'))\n",
    "plt.ylabel('Survived')\n",
    "plt.title('Rich vs Poor: Survival')\n",
    "plt.show()"
   ]
  },
  {
   "cell_type": "markdown",
   "metadata": {},
   "source": [
    "It isn't the output I expected. 121 people who bought ticket for higher rate survived while 219who survived, bought tickets at a lesser rate.\n",
    "\n",
    "But this isn't true perspective. Re writing the above function to return the percentage of the people that survived from both categories would be more beneficial."
   ]
  },
  {
   "cell_type": "code",
   "execution_count": 14,
   "metadata": {},
   "outputs": [
    {
     "name": "stderr",
     "output_type": "stream",
     "text": [
      "100%|████████████████████████████████████████████████████████████████████████████| 889/889 [00:00<00:00, 892042.17it/s]\n"
     ]
    },
    {
     "name": "stdout",
     "output_type": "stream",
     "text": [
      "[59.31372549019608, 31.97080291970803]\n"
     ]
    },
    {
     "data": {
      "image/png": "[encoded data removed]",
      "text/plain": [
       "<Figure size 432x288 with 1 Axes>"
      ]
     },
     "metadata": {
      "needs_background": "light"
     },
     "output_type": "display_data"
    }
   ],
   "source": [
    "def get_survive_as_fare(dataframe):\n",
    "    '''This method returns a list of the percentage of the people who survived the disaster. First element in the list\n",
    "    is the percentage of the rich people who survived while the second element is the percentage of the poor people who survived.\n",
    "    DEFINITION: Rich --> Passengers who bought tickets for more than ceil of mean of fare.\n",
    "    DEFINITION: Poor --> Passengers who bought tickets for less than or equal to ceil of mean of fare.\n",
    "    33 used ahead came from [32.096681] where [.] is the greatest integer function where 32.096681 is the mean fare found\n",
    "    in the previous step using pandas.describe()'''\n",
    "    survived_list = dataframe['Survived'].tolist()\n",
    "    fare_list = dataframe['Fare'].tolist()\n",
    "    percent = []\n",
    "    count_rich_survived = 0\n",
    "    count_rich = 0\n",
    "    count_poor_survived = 0\n",
    "    count_poor = 0\n",
    "    for i in tqdm(range(0, 889)):\n",
    "        passenger = survived_list[i]\n",
    "        fare = fare_list[i]\n",
    "        if passenger == 1:\n",
    "            if fare > 33:\n",
    "                count_rich_survived += 1\n",
    "                count_rich += 1\n",
    "            else:\n",
    "                count_poor_survived += 1\n",
    "                count_poor +=1\n",
    "        else:\n",
    "            if fare > 33:\n",
    "                count_rich += 1\n",
    "            else:\n",
    "                count_poor +=1\n",
    "    percent.append(count_rich_survived / count_rich * 100.0)\n",
    "    percent.append(count_poor_survived / count_poor * 100.0)\n",
    "    return percent\n",
    "    \n",
    "\n",
    "percent = get_survive_as_fare(train_data)\n",
    "print(percent)\n",
    "plt.bar([1,2], percent)\n",
    "plt.xticks([1,2], ('Rich', 'Poor'))\n",
    "plt.ylabel('Survived')\n",
    "plt.title('Rich vs Poor: Survival')\n",
    "plt.show()"
   ]
  },
  {
   "cell_type": "markdown",
   "metadata": {},
   "source": [
    "Now it does looks like what one usually sees. Money speaks. 59.3% of rich people survived compared to 31.97% of poor people.\n",
    "\n",
    "Let's see how age played the role here. First, plot a graph that shows what percentage of people belonging to each age group survived the tragedy."
   ]
  },
  {
   "cell_type": "code",
   "execution_count": 15,
   "metadata": {},
   "outputs": [
    {
     "name": "stderr",
     "output_type": "stream",
     "text": [
      "100%|████████████████████████████████████████████████████████████████████████████| 889/889 [00:00<00:00, 890125.63it/s]\n",
      "100%|████████████████████████████████████████████████████████████████████████████| 889/889 [00:00<00:00, 892469.19it/s]\n",
      "100%|████████████████████████████████████████████████████████████████████████████████████████████| 8/8 [00:00<?, ?it/s]\n"
     ]
    },
    {
     "name": "stdout",
     "output_type": "stream",
     "text": [
      "[59.375, 38.26086956521739, 33.415233415233416, 44.15584415584416, 38.372093023255815, 40.476190476190474, 18.75, 20.0]\n"
     ]
    },
    {
     "data": {
      "image/png": "[encoded data removed]",
      "text/plain": [
       "<Figure size 432x288 with 1 Axes>"
      ]
     },
     "metadata": {
      "needs_background": "light"
     },
     "output_type": "display_data"
    }
   ],
   "source": [
    "def get_survive_as_age(dataframe):\n",
    "    '''This method returns a list. The list is of size 8. Each entry of the list is the frequency of people that survived\n",
    "    that accident from a particular age group. First created a Numpy array and worked with arrays as we usually do. And\n",
    "    converted it to a list while returning for easy parsing during plot.\n",
    "    First element of the array is the count of people survived belonging to age group 0-10. Second element of the array\n",
    "    is the count of people survived belonging to age group 10-20 and so on.\n",
    "    Range of the loop is 0-889 as total number of passengers in the list is 889'''\n",
    "    age_list = dataframe['Age'].tolist()\n",
    "    survive_list = dataframe['Survived'].tolist()\n",
    "    age_survive = np.zeros((8,), dtype = int)\n",
    "    for i in tqdm(range(0, 889)):\n",
    "        age = age_list[i]\n",
    "        survive = survive_list[i]\n",
    "        if survive == 1:\n",
    "            i = int(age/10)\n",
    "            if age%10 == 0:\n",
    "                i -= 1\n",
    "            age_survive[i] = age_survive[i] + 1\n",
    "    return list(age_survive)\n",
    "\n",
    "\n",
    "def get_age_list(dataframe):\n",
    "    '''Here we are making a list of the count of people of all age groups irrespective of the fact that they survived or not.\n",
    "    Age groups are: 0-10, 10-20, 20-30, ..., 70-80.\n",
    "    Methodology: Numpy array; worked with arrays; converted to list and returned.'''\n",
    "    age_group = np.zeros((8,), dtype = int)\n",
    "    age = dataframe['Age'].tolist()\n",
    "    for x in tqdm(age):\n",
    "        y = int(x/10)\n",
    "        if x%10 == 0:\n",
    "            y -= 1\n",
    "        age_group[y] += 1\n",
    "    return list(age_group)\n",
    "\n",
    "\n",
    "'''survive_list is the percentage of people that survived the accident from each age group.'''\n",
    "age_survive_list = get_survive_as_age(train_data)\n",
    "total_age_list = get_age_list(train_data)\n",
    "survive_list = []\n",
    "for x in tqdm(range(0, 8)):\n",
    "    survive_list.append(age_survive_list[x]/total_age_list[x]*100.0)\n",
    "print(survive_list)\n",
    "plt.bar(np.arange(1,9).tolist(), survive_list)\n",
    "plt.xticks(np.arange(1,9).tolist(), ('0-10', '10-20', '20-30', '30-40', '40-50', '50-60', '60-70', '70-80'))\n",
    "plt.xlabel('Age(in years)')\n",
    "plt.ylabel('Survived')\n",
    "plt.title('Age vs Survival')\n",
    "plt.show()"
   ]
  },
  {
   "cell_type": "markdown",
   "metadata": {},
   "source": [
    "59.4% children below age 10 survived the disaster. And only 20% people greater than 70 years in age made it alive back home.\n",
    "\n",
    "Let's check how many people of each age group were saved."
   ]
  },
  {
   "cell_type": "code",
   "execution_count": 16,
   "metadata": {},
   "outputs": [
    {
     "name": "stdout",
     "output_type": "stream",
     "text": [
      "[38, 44, 136, 68, 33, 17, 3, 1]\n"
     ]
    },
    {
     "data": {
      "image/png": "[encoded data removed]",
      "text/plain": [
       "<Figure size 432x288 with 1 Axes>"
      ]
     },
     "metadata": {},
     "output_type": "display_data"
    }
   ],
   "source": [
    "plt.pie(age_survive_list, labels = ['0-10', '10-20', '20-30', '30-40', '40-50', '50-60', '60-70', '70-80'])\n",
    "print(age_survive_list)\n",
    "plt.show()"
   ]
  },
  {
   "cell_type": "markdown",
   "metadata": {},
   "source": [
    "70-80 years age group is tough to see. Only 1 out of 5 survived.\n",
    "\n",
    "How much role did gender play in the survival of people here? Let's find out that too."
   ]
  },
  {
   "cell_type": "code",
   "execution_count": 17,
   "metadata": {
    "scrolled": true
   },
   "outputs": [
    {
     "name": "stderr",
     "output_type": "stream",
     "text": [
      "100%|████████████████████████████████████████████████████████████████████████████| 889/889 [00:00<00:00, 890125.63it/s]\n",
      "C:\\Users\\japke\\Anaconda3\\lib\\site-packages\\ipykernel_launcher.py:29: RuntimeWarning: invalid value encountered in true_divide\n"
     ]
    },
    {
     "data": {
      "image/png": "[encoded data removed]",
      "text/plain": [
       "<Figure size 432x288 with 1 Axes>"
      ]
     },
     "metadata": {
      "needs_background": "light"
     },
     "output_type": "display_data"
    }
   ],
   "source": [
    "def get_survive_as_gender(dataframe):\n",
    "    '''In this segment of code, I have tried to find a pattern between age and gender for the possibility of surviving the\n",
    "    accident. There are 4 numpy arrays, each doing the work the name of the variable says. Later, I have divided corresponding\n",
    "    elements of the array to find out the percentage of people surviving from each gender for each age group.\n",
    "    Ignore the warning which occurs while returning the array. It is handled later in the code before making a plot.\n",
    "    Range is 0-889 as there is a total of 889 passengers list.'''\n",
    "    gender_list = dataframe['Sex'].tolist()\n",
    "    survive_list = dataframe['Survived'].tolist()\n",
    "    age_list = dataframe['Age'].tolist()\n",
    "    age_male_count = np.zeros((8,), dtype = int)\n",
    "    age_female_count = np.zeros((8,), dtype = int)\n",
    "    age_male_survive = np.zeros((8,), dtype = int)\n",
    "    age_female_survive = np.zeros((8,), dtype = int)\n",
    "    for x in tqdm(range(0, 889)):\n",
    "        age = age_list[x]\n",
    "        gender = gender_list[x]\n",
    "        survive = survive_list[x]\n",
    "        x = int(age/10)\n",
    "        if age%10 == 0:\n",
    "            x -= 1\n",
    "        if gender == 'male':\n",
    "            age_male_count[x] += 1\n",
    "            if survive == 1:\n",
    "                age_male_survive[x] += 1\n",
    "        else:\n",
    "            age_female_count[x] += 1\n",
    "            if survive == 1:\n",
    "                age_female_survive[x] += 1\n",
    "    return np.divide(age_male_survive, age_male_count), np.divide(age_female_survive, age_female_count)\n",
    "\n",
    "\n",
    "percent_male, percent_female = get_survive_as_gender(train_data)\n",
    "percent_male *= 100.0\n",
    "percent_female *= 100.0\n",
    "index_nan = np.isnan(percent_female)\n",
    "percent_female[index_nan] = 0\n",
    "plt.bar(np.arange(1,9).tolist(), percent_male, color = 'r', width = 0.4, label = 'Male')\n",
    "plt.bar((np.arange(1,9)+0.4).tolist(), percent_female, color = 'g', width = 0.4, label = 'Female')\n",
    "plt.xlabel('Age groups')\n",
    "plt.xticks((np.arange(1,9)+0.2).tolist(), ('0-10', '10-20', '20-30', '30-40', '40-50', '50-60', '60-70', '70-80'))\n",
    "plt.ylabel('Percentage survived')\n",
    "plt.title('Age vs survived according to gender')\n",
    "plt.legend()\n",
    "plt.show()"
   ]
  },
  {
   "cell_type": "markdown",
   "metadata": {},
   "source": [
    "Females survived this tragedy by a lot big margin. Almost 5 ladies survived for each 1 man who lived to see another day.\n",
    "\n",
    "Let us now see, how does the starting point of everyone's journey impacted their chances of surviving the accident. We now look into two ways of exploring data here. We check the percentage of people from each location that survive the accident. We also check the contribution of each station to the survival's list."
   ]
  },
  {
   "cell_type": "code",
   "execution_count": 18,
   "metadata": {},
   "outputs": [
    {
     "name": "stderr",
     "output_type": "stream",
     "text": [
      "100%|████████████████████████████████████████████████████████████████████████████| 889/889 [00:00<00:00, 438520.08it/s]\n",
      "C:\\Users\\japke\\Anaconda3\\lib\\site-packages\\matplotlib\\figure.py:445: UserWarning: Matplotlib is currently using module://ipykernel.pylab.backend_inline, which is a non-GUI backend, so cannot show the figure.\n",
      "  % get_backend())\n"
     ]
    },
    {
     "data": {
      "image/png": "[encoded data removed]",
      "text/plain": [
       "<Figure size 432x288 with 1 Axes>"
      ]
     },
     "metadata": {
      "needs_background": "light"
     },
     "output_type": "display_data"
    },
    {
     "data": {
      "image/png": "[encoded data removed]",
      "text/plain": [
       "<Figure size 432x288 with 1 Axes>"
      ]
     },
     "metadata": {
      "needs_background": "light"
     },
     "output_type": "display_data"
    }
   ],
   "source": [
    "def get_survive_as_embarked(dataframe):\n",
    "    '''\n",
    "    This method does 2 things. It first finds and returns the % of people who started from a particular \n",
    "    station that survived the accident. It also find the % of people who survived the incident per each\n",
    "    boarding station.\n",
    "    '''\n",
    "    embark_list = dataframe['Embarked'].tolist()\n",
    "    survived_list = dataframe['Survived'].tolist()\n",
    "    started_from = np.zeros((3,), dtype = int)\n",
    "    survive_started = np.zeros((3,), dtype = int)\n",
    "    station = {'S': 0, 'C': 1, 'Q': 2}\n",
    "    for x in tqdm(range(0, 889)):\n",
    "        embark = embark_list[x]\n",
    "        survive = survived_list[x]\n",
    "        started_from[station[embark]] += 1\n",
    "        if survive == 1:\n",
    "            survive_started[station[embark]] += 1\n",
    "    return np.divide(survive_started, started_from), np.divide(survive_started, np.sum(survive_started))\n",
    "\n",
    "# Defining variables:\n",
    "# x --> the percentage of people from each station that survived the accident.\n",
    "# y --> the percentage of people that survived the incident from each station.\n",
    "x, y = get_survive_as_embarked(train_data)\n",
    "x *= 100.0\n",
    "y *= 100.0\n",
    "f = plt.figure(1)\n",
    "plt.bar(np.arange(1,4).tolist(), list(x))\n",
    "plt.title(\"Embark vs Survival\")\n",
    "plt.xlabel(\"Embark Station\")\n",
    "plt.ylabel(\"% survive\")\n",
    "plt.xticks(np.arange(1,4).tolist(), ('S', 'C', 'Q'))\n",
    "f.show()\n",
    "\n",
    "g = plt.figure(2)\n",
    "plt.bar(np.arange(1,4).tolist(), list(y))\n",
    "plt.title(\"Embark vs Survival\")\n",
    "plt.xlabel(\"Embark Station\")\n",
    "plt.ylabel(\"% survive\")\n",
    "plt.xticks(np.arange(1,4).tolist(), ('S', 'C', 'Q'))\n",
    "g.show()"
   ]
  },
  {
   "cell_type": "markdown",
   "metadata": {},
   "source": [
    "More than 50% people who boarded from Cherbourg survived the incident. But overall more than 60% people who made it alive had boarded from Southampton. A detailed analysis is mentioned in conclusions below.\n",
    "\n",
    "Time to see how family contributed in the survival rate. A family is defined as the sum of siblings, spouses, parents, and children. Here we plot according to the number of family members each passenger had."
   ]
  },
  {
   "cell_type": "code",
   "execution_count": 19,
   "metadata": {},
   "outputs": [
    {
     "name": "stderr",
     "output_type": "stream",
     "text": [
      "100%|████████████████████████████████████████████████████████████████████████████| 889/889 [00:00<00:00, 881081.35it/s]\n"
     ]
    },
    {
     "data": {
      "image/png": "[encoded data removed]",
      "text/plain": [
       "<Figure size 432x288 with 1 Axes>"
      ]
     },
     "metadata": {
      "needs_background": "light"
     },
     "output_type": "display_data"
    },
    {
     "name": "stdout",
     "output_type": "stream",
     "text": [
      "[161  89  59  21   3   3   4   0   0   0   0]\n"
     ]
    }
   ],
   "source": [
    "def get_survive_as_family(dataframe):\n",
    "    '''\n",
    "    This method returns a numpy array of the sizes of the family of the deceased on board that day.\n",
    "    '''\n",
    "    family_size = np.asarray(dataframe['SibSp'].tolist()) + np.asarray(dataframe['Parch'].tolist()).tolist()\n",
    "    survived_list = dataframe['Survived'].tolist()\n",
    "    x = max(family_size) # x is just a temporary variable to store family size.\n",
    "    support_survive = np.zeros((x+1,), dtype = int)\n",
    "    for i in tqdm(range(0, 889)):\n",
    "        survive = survived_list[i]\n",
    "        size = family_size[i]\n",
    "        if survive == 1:\n",
    "            support_survive[size] += 1\n",
    "    return support_survive\n",
    "\n",
    "support = get_survive_as_family(train_data)\n",
    "plt.bar(np.arange(1,len(support)+1), support)    \n",
    "plt.xticks(np.arange(1, len(support)+1), ('0','1','2','3','4','5','6','7','8','9','10','11'))\n",
    "plt.title(\"Family size vs Survival\")\n",
    "plt.xlabel(\"Family size\")\n",
    "plt.ylabel(\"Number of survivers\")\n",
    "plt.show()\n",
    "print(support)"
   ]
  },
  {
   "cell_type": "markdown",
   "metadata": {},
   "source": [
    "That is strange. 161 of the people that survived were lone wolves on the ship."
   ]
  },
  {
   "cell_type": "markdown",
   "metadata": {},
   "source": [
    "### Conclusions from analyzing training data\n",
    "\n",
    "1. If a person has spend more than 33 dollars, chances of his/her survival are almost twice than the person who spend less than 33 dollars.\n",
    "\n",
    "2. 64% of people who survived were less than 30 years in age. \n",
    "\n",
    "3. A child less than 10 years in age has 3 times more chances of survival than a person belonging to age group of 60-70.\n",
    "\n",
    "4. A girl child and a boy child below age of 10 have the same probability of survival. Whereas, a lady is roughly 5 times more likely than man to survive the accident.\n",
    "\n",
    "5. A third of the people that boarded from Southampton survived the incident which accounts for 61% of people who survived. 40% people boarding from Queenstown were alive after the accident which accounts for less than 10% people that managed to live that day.\n",
    "\n",
    "6. 250 people who survived the accident were travelling either alone, or with just 1 family member. A family consists of total number of siblings, spouses, parents and children. This figure accounts for almost 74% of the surviving people."
   ]
  },
  {
   "cell_type": "code",
   "execution_count": null,
   "metadata": {},
   "outputs": [],
   "source": []
  }
 ],
 "metadata": {
  "kernelspec": {
   "display_name": "Python 3",
   "language": "python",
   "name": "python3"
  },
  "language_info": {
   "codemirror_mode": {
    "name": "ipython",
    "version": 3
   },
   "file_extension": ".py",
   "mimetype": "text/x-python",
   "name": "python",
   "nbconvert_exporter": "python",
   "pygments_lexer": "ipython3",
   "version": "3.6.7"
  }
 },
 "nbformat": 4,
 "nbformat_minor": 2
}
